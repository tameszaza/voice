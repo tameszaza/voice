{
 "cells": [
  {
   "cell_type": "code",
   "execution_count": 1,
   "id": "75cdfce2-580b-4b7a-8fdb-b2d14e3aa71e",
   "metadata": {},
   "outputs": [
    {
     "name": "stdout",
     "output_type": "stream",
     "text": [
      "Testing GPU performance for 30 seconds...\n",
      "Completed 5294 matrix multiplications in 30 seconds.\n"
     ]
    }
   ],
   "source": [
    "import torch\n",
    "import time\n",
    " \n",
    "def gpu_performance_test():\n",
    "    if not torch.cuda.is_available():\n",
    "        print(\"GPU is not available. Exiting.\")\n",
    "        return\n",
    "    \n",
    "    device = torch.device(\"cuda\")\n",
    "    matrix_size = 4096  # Size of the square matrix\n",
    "    num_iterations = 0\n",
    " \n",
    "    # Create two large random matrices on the GPU\n",
    "    A = torch.randn((matrix_size, matrix_size), device=device)\n",
    "    B = torch.randn((matrix_size, matrix_size), device=device)\n",
    " \n",
    "    start_time = time.time()\n",
    "    elapsed_time = 0\n",
    " \n",
    "    print(\"Testing GPU performance for 30 seconds...\")\n",
    "    while elapsed_time < 30:\n",
    "        # Perform matrix multiplication\n",
    "        result = torch.mm(A, B)\n",
    "        num_iterations += 1\n",
    "        elapsed_time = time.time() - start_time\n",
    " \n",
    "    print(f\"Completed {num_iterations} matrix multiplications in 30 seconds.\")\n",
    " \n",
    "# Run the test\n",
    "gpu_performance_test()"
   ]
  }
 ],
 "metadata": {
  "kernelspec": {
   "display_name": "Python 3 (ipykernel)",
   "language": "python",
   "name": "python3"
  },
  "language_info": {
   "codemirror_mode": {
    "name": "ipython",
    "version": 3
   },
   "file_extension": ".py",
   "mimetype": "text/x-python",
   "name": "python",
   "nbconvert_exporter": "python",
   "pygments_lexer": "ipython3",
   "version": "3.12.3"
  }
 },
 "nbformat": 4,
 "nbformat_minor": 5
}
