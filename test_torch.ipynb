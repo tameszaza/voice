{
 "cells": [
  {
   "cell_type": "code",
   "execution_count": 1,
   "metadata": {},
   "outputs": [],
   "source": [
    "import torch "
   ]
  },
  {
   "cell_type": "code",
   "execution_count": 3,
   "metadata": {},
   "outputs": [
    {
     "name": "stdout",
     "output_type": "stream",
     "text": [
      "tensor(5.5000)\n"
     ]
    }
   ],
   "source": [
    "import torch\n",
    "# Wasserstein loss\n",
    "def wasserstein_loss(y_pred, y_true):\n",
    "    return torch.mean(y_pred * y_true)\n",
    "# Example predictions and labels\n",
    "y_pred = torch.tensor([1.0, 2.0])\n",
    "y_true = torch.tensor([3.0, 4.0])\n",
    "\n",
    "# loss = wasserstein_loss(y_pred, y_true)\n",
    "# print(loss)  # This will output the mean Wasserstein loss\n",
    "print(torch.mean(y_pred * y_true))\n"
   ]
  },
  {
   "cell_type": "code",
   "execution_count": 6,
   "metadata": {},
   "outputs": [
    {
     "name": "stdout",
     "output_type": "stream",
     "text": [
      "tensor(0.5250)\n"
     ]
    }
   ],
   "source": [
    "import torch\n",
    "\n",
    "# Example predictions and labels\n",
    "y_pred = torch.tensor([0.9, -0.3, 0.8, -0.1])\n",
    "y_true = torch.tensor([1, -1, 1, -1])\n",
    "\n",
    "loss = wasserstein_loss(y_pred, y_true)\n",
    "print(loss)  # This will output the mean Wasserstein loss\n"
   ]
  },
  {
   "cell_type": "code",
   "execution_count": 3,
   "metadata": {},
   "outputs": [
    {
     "name": "stdout",
     "output_type": "stream",
     "text": [
      "Testing GPU performance for 30 seconds...\n",
      "Completed 1897 matrix multiplications in 30 seconds.\n"
     ]
    }
   ],
   "source": [
    "import torch\n",
    "import time\n",
    "\n",
    "def gpu_performance_test():\n",
    "    if not torch.cuda.is_available():\n",
    "        print(\"GPU is not available. Exiting.\")\n",
    "        return\n",
    "    \n",
    "    device = torch.device(\"cuda\")\n",
    "    matrix_size = 4096  # Size of the square matrix\n",
    "    num_iterations = 0\n",
    "\n",
    "    # Create two large random matrices on the GPU\n",
    "    A = torch.randn((matrix_size, matrix_size), device=device)\n",
    "    B = torch.randn((matrix_size, matrix_size), device=device)\n",
    "\n",
    "    start_time = time.time()\n",
    "    elapsed_time = 0\n",
    "\n",
    "    print(\"Testing GPU performance for 30 seconds...\")\n",
    "    while elapsed_time < 30:\n",
    "        # Perform matrix multiplication\n",
    "        result = torch.mm(A, B)\n",
    "        num_iterations += 1\n",
    "        elapsed_time = time.time() - start_time\n",
    "\n",
    "    print(f\"Completed {num_iterations} matrix multiplications in 30 seconds.\")\n",
    "\n",
    "# Run the test\n",
    "gpu_performance_test()\n"
   ]
  }
 ],
 "metadata": {
  "kernelspec": {
   "display_name": ".venv",
   "language": "python",
   "name": "python3"
  },
  "language_info": {
   "codemirror_mode": {
    "name": "ipython",
    "version": 3
   },
   "file_extension": ".py",
   "mimetype": "text/x-python",
   "name": "python",
   "nbconvert_exporter": "python",
   "pygments_lexer": "ipython3",
   "version": "3.12.3"
  }
 },
 "nbformat": 4,
 "nbformat_minor": 2
}
