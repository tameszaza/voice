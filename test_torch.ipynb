{
 "cells": [
  {
   "cell_type": "code",
   "execution_count": 1,
   "metadata": {},
   "outputs": [],
   "source": [
    "import torch "
   ]
  },
  {
   "cell_type": "code",
   "execution_count": 3,
   "metadata": {},
   "outputs": [
    {
     "name": "stdout",
     "output_type": "stream",
     "text": [
      "tensor(5.5000)\n"
     ]
    }
   ],
   "source": [
    "import torch\n",
    "# Wasserstein loss\n",
    "def wasserstein_loss(y_pred, y_true):\n",
    "    return torch.mean(y_pred * y_true)\n",
    "# Example predictions and labels\n",
    "y_pred = torch.tensor([1.0, 2.0])\n",
    "y_true = torch.tensor([3.0, 4.0])\n",
    "\n",
    "# loss = wasserstein_loss(y_pred, y_true)\n",
    "# print(loss)  # This will output the mean Wasserstein loss\n",
    "print(torch.mean(y_pred * y_true))\n"
   ]
  },
  {
   "cell_type": "code",
   "execution_count": 6,
   "metadata": {},
   "outputs": [
    {
     "name": "stdout",
     "output_type": "stream",
     "text": [
      "tensor(0.5250)\n"
     ]
    }
   ],
   "source": [
    "import torch\n",
    "\n",
    "# Example predictions and labels\n",
    "y_pred = torch.tensor([0.9, -0.3, 0.8, -0.1])\n",
    "y_true = torch.tensor([1, -1, 1, -1])\n",
    "\n",
    "loss = wasserstein_loss(y_pred, y_true)\n",
    "print(loss)  # This will output the mean Wasserstein loss\n"
   ]
  }
 ],
 "metadata": {
  "kernelspec": {
   "display_name": ".venv",
   "language": "python",
   "name": "python3"
  },
  "language_info": {
   "codemirror_mode": {
    "name": "ipython",
    "version": 3
   },
   "file_extension": ".py",
   "mimetype": "text/x-python",
   "name": "python",
   "nbconvert_exporter": "python",
   "pygments_lexer": "ipython3",
   "version": "3.12.3"
  }
 },
 "nbformat": 4,
 "nbformat_minor": 2
}
