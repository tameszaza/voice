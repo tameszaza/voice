{
 "cells": [
  {
   "cell_type": "code",
   "execution_count": 3,
   "id": "d2dd9e70",
   "metadata": {},
   "outputs": [],
   "source": [
    "import os\n",
    "import glob\n",
    "import numpy as np\n",
    "import torch\n",
    "from torch.utils.data import Dataset, DataLoader\n",
    "from types import SimpleNamespace\n",
    "import matplotlib.pyplot as plt\n",
    "\n",
    "from lib.Resnetworks import NetG_RES_GANomaly\n",
    "from sklearn.metrics import (\n",
    "    roc_auc_score, roc_curve,\n",
    "    classification_report,\n",
    "    accuracy_score, precision_score,\n",
    "    recall_score, f1_score\n",
    ")\n",
    "\n",
    "# -----------------------------------------------------------------------------\n",
    "# 1) Helpers (unchanged)\n",
    "# -----------------------------------------------------------------------------\n",
    "def evaluate_scores(model, loader, device):\n",
    "    model.eval()\n",
    "    scores, labels = [], []\n",
    "    with torch.no_grad():\n",
    "        for x, y in loader:\n",
    "            x = x.to(device)\n",
    "            _, z_i, z_o = model(x)\n",
    "            if z_i.ndim == 4:\n",
    "                z_i = z_i.view(z_i.size(0), -1)\n",
    "                z_o = z_o.view(z_o.size(0), -1)\n",
    "            sc = torch.norm(z_i - z_o, p=2, dim=1).cpu().numpy()\n",
    "            scores.append(sc)\n",
    "            labels.append(y.cpu().numpy())\n",
    "    return np.concatenate(scores), np.concatenate(labels)\n",
    "\n",
    "def plot_score_distribution(scores, labels, xlim=(0, 10)):\n",
    "    plt.figure(figsize=(8,6))\n",
    "    plt.hist(scores[labels==0], bins=1000, alpha=0.6, label='Real', density=True)\n",
    "    plt.hist(scores[labels==1], bins=1000, alpha=0.6, label='Anomaly', density=True)\n",
    "    plt.legend()\n",
    "    plt.xlabel(\"Anomaly score (‖zᵢ−zₒ‖₂)\")\n",
    "    plt.ylabel(\"Count\")\n",
    "    plt.title(\"Score distribution: real vs. anomaly\")\n",
    "    plt.xlim(xlim)\n",
    "    plt.tight_layout()\n",
    "    plt.show()\n",
    "\n",
    "def print_classification_metrics(scores, labels):\n",
    "    auc = roc_auc_score(labels, scores)\n",
    "    print(f\"ROC AUC: {auc:.4f}\")\n",
    "    fpr, tpr, thr = roc_curve(labels, scores)\n",
    "    best_idx = np.argmax(tpr - fpr)\n",
    "    best_thr = thr[best_idx]\n",
    "    print(f\"Best threshold (max TPR−FPR): {best_thr:.4f}\\n\")\n",
    "    preds = (scores >= best_thr).astype(int)\n",
    "    print(\"Classification report:\")\n",
    "    print(classification_report(labels, preds, target_names=['Real','Anomaly']))\n",
    "    print(\"Accuracy :\", accuracy_score(labels, preds))\n",
    "    print(\"Precision:\", precision_score(labels, preds))\n",
    "    print(\"Recall   :\", recall_score(labels, preds))\n",
    "    print(\"F1-score :\", f1_score(labels, preds))\n",
    "\n",
    "# -----------------------------------------------------------------------------\n",
    "# 2) Dataset (no per-sample normalization)\n",
    "# -----------------------------------------------------------------------------\n",
    "class WaveFakeDataset(Dataset):\n",
    "    def __init__(self, root_dir: str, transform=None):\n",
    "        \"\"\"\n",
    "        Expects:\n",
    "          root_dir/\n",
    "            real.npy      → shape [N_real,1,128,128]\n",
    "            fake/         → .npy files each [n_i,1,128,128]\n",
    "        \"\"\"\n",
    "        self.transform = transform\n",
    "        self.data, self.labels = [], []\n",
    "\n",
    "        # load real\n",
    "        real_arr = np.load(os.path.join(root_dir, 'real.npy'))\n",
    "        for sample in real_arr:\n",
    "            self.data.append(sample)\n",
    "            self.labels.append(0)\n",
    "\n",
    "        # load fake\n",
    "        fake_dir = os.path.join(root_dir, 'fake')\n",
    "        for fp in sorted(glob.glob(os.path.join(fake_dir, '*.npy'))):\n",
    "            arr = np.load(fp)\n",
    "            for sample in arr:\n",
    "                self.data.append(sample)\n",
    "                self.labels.append(1)\n",
    "\n",
    "    def __len__(self):\n",
    "        return len(self.labels)\n",
    "\n",
    "    def __getitem__(self, idx):\n",
    "        x = torch.from_numpy(self.data[idx]).float()\n",
    "        # NO per-sample normalization here\n",
    "        if self.transform is not None:\n",
    "            x = self.transform(x)\n",
    "        y = torch.tensor(self.labels[idx], dtype=torch.long)\n",
    "        return x, y\n",
    "\n",
    "# -----------------------------------------------------------------------------\n",
    "# 3) DataLoader (drop transform)\n",
    "# -----------------------------------------------------------------------------"
   ]
  },
  {
   "cell_type": "code",
   "execution_count": 5,
   "id": "e1a309f3",
   "metadata": {},
   "outputs": [
    {
     "name": "stdout",
     "output_type": "stream",
     "text": [
      "NetG_RES_GANomaly: Calculated ngf_deepest for decoder: 256\n"
     ]
    },
    {
     "data": {
      "image/png": "[encoded data removed]",
      "text/plain": [
       "<Figure size 800x600 with 1 Axes>"
      ]
     },
     "metadata": {},
     "output_type": "display_data"
    },
    {
     "name": "stdout",
     "output_type": "stream",
     "text": [
      "ROC AUC: 0.3215\n",
      "Best threshold (max TPR−FPR): inf\n",
      "\n",
      "Classification report:\n",
      "              precision    recall  f1-score   support\n",
      "\n",
      "        Real       0.12      1.00      0.22      4687\n",
      "     Anomaly       0.00      0.00      0.00     32834\n",
      "\n",
      "    accuracy                           0.12     37521\n",
      "   macro avg       0.06      0.50      0.11     37521\n",
      "weighted avg       0.02      0.12      0.03     37521\n",
      "\n",
      "Accuracy : 0.12491671330721463\n",
      "Precision: 0.0\n",
      "Recall   : 0.0\n",
      "F1-score : 0.0\n"
     ]
    },
    {
     "name": "stderr",
     "output_type": "stream",
     "text": [
      "/home/ml/Documents/myenv/lib/python3.12/site-packages/sklearn/metrics/_classification.py:1565: UndefinedMetricWarning: Precision is ill-defined and being set to 0.0 in labels with no predicted samples. Use `zero_division` parameter to control this behavior.\n",
      "  _warn_prf(average, modifier, f\"{metric.capitalize()} is\", len(result))\n",
      "/home/ml/Documents/myenv/lib/python3.12/site-packages/sklearn/metrics/_classification.py:1565: UndefinedMetricWarning: Precision is ill-defined and being set to 0.0 in labels with no predicted samples. Use `zero_division` parameter to control this behavior.\n",
      "  _warn_prf(average, modifier, f\"{metric.capitalize()} is\", len(result))\n",
      "/home/ml/Documents/myenv/lib/python3.12/site-packages/sklearn/metrics/_classification.py:1565: UndefinedMetricWarning: Precision is ill-defined and being set to 0.0 in labels with no predicted samples. Use `zero_division` parameter to control this behavior.\n",
      "  _warn_prf(average, modifier, f\"{metric.capitalize()} is\", len(result))\n",
      "/home/ml/Documents/myenv/lib/python3.12/site-packages/sklearn/metrics/_classification.py:1565: UndefinedMetricWarning: Precision is ill-defined and being set to 0.0 due to no predicted samples. Use `zero_division` parameter to control this behavior.\n",
      "  _warn_prf(average, modifier, f\"{metric.capitalize()} is\", len(result))\n"
     ]
    }
   ],
   "source": [
    "eval_root  = \"/home/ml/Documents/voice/ResData/wavefake32_split/test\"\n",
    "batch_size = 8\n",
    "\n",
    "eval_ds     = WaveFakeDataset(eval_root, transform=None)\n",
    "eval_loader = DataLoader(eval_ds,\n",
    "                         batch_size=batch_size,\n",
    "                         shuffle=False,\n",
    "                         num_workers=1,\n",
    "                         pin_memory=True)\n",
    "\n",
    "# -----------------------------------------------------------------------------\n",
    "# 4) Load model + checkpoint\n",
    "# -----------------------------------------------------------------------------\n",
    "opt = SimpleNamespace(\n",
    "    nc=1, isize=32, nz=100, ngf=64, ngpu=1,\n",
    "    device='cuda' if torch.cuda.is_available() else 'cpu'\n",
    ")\n",
    "device = torch.device(opt.device)\n",
    "\n",
    "netG = NetG_RES_GANomaly(opt).to(device)\n",
    "ckpt = torch.load(\n",
    "    '/home/ml/Documents/voice/output_vanillaResGAN/FirstTime32/checkpoints/checkpoint_epoch480.pth',\n",
    "    map_location=device\n",
    ")\n",
    "netG.load_state_dict(ckpt['netG'])\n",
    "\n",
    "# -----------------------------------------------------------------------------\n",
    "# 5) Evaluate & plot\n",
    "# -----------------------------------------------------------------------------\n",
    "scores, labels = evaluate_scores(netG, eval_loader, device)\n",
    "plot_score_distribution(scores, labels, xlim=(0.5,1.5))\n",
    "print_classification_metrics(scores, labels)"
   ]
  },
  {
   "cell_type": "code",
   "execution_count": 2,
   "id": "a218cc5b",
   "metadata": {},
   "outputs": [
    {
     "name": "stdout",
     "output_type": "stream",
     "text": [
      "/home/ml/Documents/voice/Res_GANomaly/ganomaly\n"
     ]
    },
    {
     "name": "stderr",
     "output_type": "stream",
     "text": [
      "/home/ml/Documents/myenv/lib/python3.12/site-packages/IPython/core/magics/osm.py:417: UserWarning: This is now an optional IPython functionality, setting dhist requires you to install the `pickleshare` library.\n",
      "  self.shell.db['dhist'] = compress_dhist(dhist)[-100:]\n"
     ]
    }
   ],
   "source": [
    "%cd .."
   ]
  },
  {
   "cell_type": "markdown",
   "id": "c8add46a",
   "metadata": {},
   "source": [
    "# Train"
   ]
  },
  {
   "cell_type": "code",
   "execution_count": null,
   "id": "f6f13061",
   "metadata": {},
   "outputs": [
    {
     "name": "stdout",
     "output_type": "stream",
     "text": [
      "NetG_RES_GANomaly: Calculated ngf_deepest for decoder: 256\n"
     ]
    },
    {
     "data": {
      "image/png": "[encoded data removed]",
      "text/plain": [
       "<Figure size 800x600 with 1 Axes>"
      ]
     },
     "metadata": {},
     "output_type": "display_data"
    },
    {
     "ename": "",
     "evalue": "",
     "output_type": "error",
     "traceback": [
      "\u001b[1;31mThe Kernel crashed while executing code in the current cell or a previous cell. \n",
      "\u001b[1;31mPlease review the code in the cell(s) to identify a possible cause of the failure. \n",
      "\u001b[1;31mClick <a href='https://aka.ms/vscodeJupyterKernelCrash'>here</a> for more info. \n",
      "\u001b[1;31mView Jupyter <a href='command:jupyter.viewOutput'>log</a> for further details."
     ]
    }
   ],
   "source": [
    "import os\n",
    "import glob\n",
    "import numpy as np\n",
    "import torch\n",
    "from torch.utils.data import Dataset, DataLoader\n",
    "from types import SimpleNamespace\n",
    "import matplotlib.pyplot as plt\n",
    "\n",
    "from lib.Resnetworks import NetG_RES_GANomaly\n",
    "from sklearn.metrics import (\n",
    "    roc_auc_score, roc_curve,\n",
    "    classification_report,\n",
    "    accuracy_score, precision_score,\n",
    "    recall_score, f1_score\n",
    ")\n",
    "\n",
    "# -----------------------------------------------------------------------------\n",
    "# 1) Helpers (unchanged)\n",
    "# -----------------------------------------------------------------------------\n",
    "def evaluate_scores(model, loader, device):\n",
    "    model.eval()\n",
    "    scores, labels = [], []\n",
    "    with torch.no_grad():\n",
    "        for x, y in loader:\n",
    "            x = x.to(device)\n",
    "            _, z_i, z_o = model(x)\n",
    "            if z_i.ndim == 4:\n",
    "                z_i = z_i.view(z_i.size(0), -1)\n",
    "                z_o = z_o.view(z_o.size(0), -1)\n",
    "            sc = torch.norm(z_i - z_o, p=2, dim=1).cpu().numpy()\n",
    "            scores.append(sc)\n",
    "            labels.append(y.cpu().numpy())\n",
    "    return np.concatenate(scores), np.concatenate(labels)\n",
    "\n",
    "def plot_score_distribution(scores, labels, xlim=(0, 10)):\n",
    "    plt.figure(figsize=(8,6))\n",
    "    plt.hist(scores[labels==0], bins=5000, alpha=0.6, label='Real', density=True)\n",
    "    #plt.hist(scores[labels==1], bins=25, alpha=0.6, label='Anomaly', density=True)\n",
    "    plt.legend()\n",
    "    plt.xlabel(\"Anomaly score (‖zᵢ−zₒ‖₂)\")\n",
    "    plt.ylabel(\"Count\")\n",
    "    plt.title(\"Score distribution: real vs. anomaly\")\n",
    "    plt.xlim(xlim)\n",
    "    plt.tight_layout()\n",
    "    plt.show()\n",
    "\n",
    "def print_classification_metrics(scores, labels):\n",
    "    auc = roc_auc_score(labels, scores)\n",
    "    print(f\"ROC AUC: {auc:.4f}\")\n",
    "    fpr, tpr, thr = roc_curve(labels, scores)\n",
    "    best_idx = np.argmax(tpr - fpr)\n",
    "    best_thr = thr[best_idx]\n",
    "    print(f\"Best threshold (max TPR−FPR): {best_thr:.4f}\\n\")\n",
    "    preds = (scores >= best_thr).astype(int)\n",
    "    print(\"Classification report:\")\n",
    "    print(classification_report(labels, preds, target_names=['Real','Anomaly']))\n",
    "    print(\"Accuracy :\", accuracy_score(labels, preds))\n",
    "    print(\"Precision:\", precision_score(labels, preds))\n",
    "    print(\"Recall   :\", recall_score(labels, preds))\n",
    "    print(\"F1-score :\", f1_score(labels, preds))\n",
    "\n",
    "# -----------------------------------------------------------------------------\n",
    "# 2) Dataset (no per-sample normalization)\n",
    "# -----------------------------------------------------------------------------\n",
    "class WaveFakeDataset(Dataset):\n",
    "    def __init__(self, root_dir: str, transform=None):\n",
    "        \"\"\"\n",
    "        Expects:\n",
    "          root_dir/\n",
    "            real.npy      → shape [N_real,1,128,128]\n",
    "            fake/         → .npy files each [n_i,1,128,128]\n",
    "        \"\"\"\n",
    "        self.transform = transform\n",
    "        self.data, self.labels = [], []\n",
    "\n",
    "        # load real\n",
    "        real_arr = np.load(os.path.join(root_dir, 'real.npy'))\n",
    "        for sample in real_arr:\n",
    "            self.data.append(sample)\n",
    "            self.labels.append(0)\n",
    "\n",
    "    def __len__(self):\n",
    "        return len(self.labels)\n",
    "\n",
    "    def __getitem__(self, idx):\n",
    "        x = torch.from_numpy(self.data[idx]).float()\n",
    "        # NO per-sample normalization here\n",
    "        if self.transform is not None:\n",
    "            x = self.transform(x)\n",
    "        y = torch.tensor(self.labels[idx], dtype=torch.long)\n",
    "        return x, y\n",
    "\n",
    "# -----------------------------------------------------------------------------\n",
    "# 3) DataLoader (drop transform)\n",
    "# -----------------------------------------------------------------------------\n",
    "eval_root  = \"/home/ml/Documents/voice/ResData/wavefake32_split/train\"\n",
    "batch_size = 16\n",
    "\n",
    "eval_ds     = WaveFakeDataset(eval_root, transform=None)\n",
    "eval_loader = DataLoader(eval_ds,\n",
    "                         batch_size=batch_size,\n",
    "                         shuffle=False,\n",
    "                         num_workers=1,\n",
    "                         pin_memory=True)\n",
    "\n",
    "# -----------------------------------------------------------------------------\n",
    "# 4) Load model + checkpoint\n",
    "# -----------------------------------------------------------------------------\n",
    "opt = SimpleNamespace(\n",
    "    nc=1, isize=32, nz=100, ngf=64, ngpu=1,\n",
    "    device='cuda' if torch.cuda.is_available() else 'cpu'\n",
    ")\n",
    "device = torch.device(opt.device)\n",
    "\n",
    "netG = NetG_RES_GANomaly(opt).to(device)\n",
    "ckpt = torch.load(\n",
    "    '/home/ml/Documents/voice/output_vanillaResGAN/FirstTime32/checkpoints/checkpoint_epoch480.pth',\n",
    "    map_location=device\n",
    ")\n",
    "netG.load_state_dict(ckpt['netG'])\n",
    "\n",
    "# -----------------------------------------------------------------------------\n",
    "# 5) Evaluate & plot\n",
    "# -----------------------------------------------------------------------------\n",
    "scores, labels = evaluate_scores(netG, eval_loader, device)\n",
    "plot_score_distribution(scores, labels, xlim=(0,5))\n",
    "# print_classification_metrics(scores, labels)\n"
   ]
  },
  {
   "cell_type": "markdown",
   "id": "6072ae68",
   "metadata": {},
   "source": [
    "# Fake as Bonafide"
   ]
  },
  {
   "cell_type": "code",
   "execution_count": 1,
   "id": "b8885026",
   "metadata": {},
   "outputs": [
    {
     "name": "stdout",
     "output_type": "stream",
     "text": [
      "size: 809890601 bytes\n"
     ]
    },
    {
     "ename": "RuntimeError",
     "evalue": "PytorchStreamReader failed locating file data/4: file not found",
     "output_type": "error",
     "traceback": [
      "\u001b[0;31m---------------------------------------------------------------------------\u001b[0m",
      "\u001b[0;31mRuntimeError\u001b[0m                              Traceback (most recent call last)",
      "Cell \u001b[0;32mIn[1], line 5\u001b[0m\n\u001b[1;32m      2\u001b[0m pth \u001b[38;5;241m=\u001b[39m \u001b[38;5;124m\"\u001b[39m\u001b[38;5;124m/home/ml/Documents/voice/output_multigan/FirstTime64/checkpoints/checkpoint_interrupt_epoch129.pth\u001b[39m\u001b[38;5;124m\"\u001b[39m\n\u001b[1;32m      4\u001b[0m \u001b[38;5;28mprint\u001b[39m(\u001b[38;5;124m\"\u001b[39m\u001b[38;5;124msize:\u001b[39m\u001b[38;5;124m\"\u001b[39m, os\u001b[38;5;241m.\u001b[39mpath\u001b[38;5;241m.\u001b[39mgetsize(pth), \u001b[38;5;124m\"\u001b[39m\u001b[38;5;124mbytes\u001b[39m\u001b[38;5;124m\"\u001b[39m)   \u001b[38;5;66;03m# should be MBs, not a few KB\u001b[39;00m\n\u001b[0;32m----> 5\u001b[0m ckpt \u001b[38;5;241m=\u001b[39m \u001b[43mtorch\u001b[49m\u001b[38;5;241;43m.\u001b[39;49m\u001b[43mload\u001b[49m\u001b[43m(\u001b[49m\u001b[43mpth\u001b[49m\u001b[43m,\u001b[49m\u001b[43m \u001b[49m\u001b[43mmap_location\u001b[49m\u001b[38;5;241;43m=\u001b[39;49m\u001b[38;5;124;43m\"\u001b[39;49m\u001b[38;5;124;43mcpu\u001b[39;49m\u001b[38;5;124;43m\"\u001b[39;49m\u001b[43m)\u001b[49m      \u001b[38;5;66;03m# crash here? → file is corrupt\u001b[39;00m\n\u001b[1;32m      6\u001b[0m pprint\u001b[38;5;241m.\u001b[39mpprint(ckpt\u001b[38;5;241m.\u001b[39mkeys())                      \u001b[38;5;66;03m# expect: epoch, netG, netD, optG, optD\u001b[39;00m\n\u001b[1;32m      7\u001b[0m \u001b[38;5;28mprint\u001b[39m(\u001b[38;5;124m\"\u001b[39m\u001b[38;5;124mdecoders saved:\u001b[39m\u001b[38;5;124m\"\u001b[39m, \u001b[38;5;28mlen\u001b[39m(ckpt[\u001b[38;5;124m\"\u001b[39m\u001b[38;5;124moptG\u001b[39m\u001b[38;5;124m\"\u001b[39m]))\n",
      "File \u001b[0;32m~/Documents/myenv/lib/python3.12/site-packages/torch/serialization.py:1462\u001b[0m, in \u001b[0;36mload\u001b[0;34m(f, map_location, pickle_module, weights_only, mmap, **pickle_load_args)\u001b[0m\n\u001b[1;32m   1460\u001b[0m \u001b[38;5;28;01mif\u001b[39;00m weights_only:\n\u001b[1;32m   1461\u001b[0m     \u001b[38;5;28;01mtry\u001b[39;00m:\n\u001b[0;32m-> 1462\u001b[0m         \u001b[38;5;28;01mreturn\u001b[39;00m \u001b[43m_load\u001b[49m\u001b[43m(\u001b[49m\n\u001b[1;32m   1463\u001b[0m \u001b[43m            \u001b[49m\u001b[43mopened_zipfile\u001b[49m\u001b[43m,\u001b[49m\n\u001b[1;32m   1464\u001b[0m \u001b[43m            \u001b[49m\u001b[43mmap_location\u001b[49m\u001b[43m,\u001b[49m\n\u001b[1;32m   1465\u001b[0m \u001b[43m            \u001b[49m\u001b[43m_weights_only_unpickler\u001b[49m\u001b[43m,\u001b[49m\n\u001b[1;32m   1466\u001b[0m \u001b[43m            \u001b[49m\u001b[43moverall_storage\u001b[49m\u001b[38;5;241;43m=\u001b[39;49m\u001b[43moverall_storage\u001b[49m\u001b[43m,\u001b[49m\n\u001b[1;32m   1467\u001b[0m \u001b[43m            \u001b[49m\u001b[38;5;241;43m*\u001b[39;49m\u001b[38;5;241;43m*\u001b[39;49m\u001b[43mpickle_load_args\u001b[49m\u001b[43m,\u001b[49m\n\u001b[1;32m   1468\u001b[0m \u001b[43m        \u001b[49m\u001b[43m)\u001b[49m\n\u001b[1;32m   1469\u001b[0m     \u001b[38;5;28;01mexcept\u001b[39;00m pickle\u001b[38;5;241m.\u001b[39mUnpicklingError \u001b[38;5;28;01mas\u001b[39;00m e:\n\u001b[1;32m   1470\u001b[0m         \u001b[38;5;28;01mraise\u001b[39;00m pickle\u001b[38;5;241m.\u001b[39mUnpicklingError(_get_wo_message(\u001b[38;5;28mstr\u001b[39m(e))) \u001b[38;5;28;01mfrom\u001b[39;00m\u001b[38;5;250m \u001b[39m\u001b[38;5;28;01mNone\u001b[39;00m\n",
      "File \u001b[0;32m~/Documents/myenv/lib/python3.12/site-packages/torch/serialization.py:1964\u001b[0m, in \u001b[0;36m_load\u001b[0;34m(zip_file, map_location, pickle_module, pickle_file, overall_storage, **pickle_load_args)\u001b[0m\n\u001b[1;32m   1962\u001b[0m \u001b[38;5;28;01mglobal\u001b[39;00m _serialization_tls\n\u001b[1;32m   1963\u001b[0m _serialization_tls\u001b[38;5;241m.\u001b[39mmap_location \u001b[38;5;241m=\u001b[39m map_location\n\u001b[0;32m-> 1964\u001b[0m result \u001b[38;5;241m=\u001b[39m \u001b[43munpickler\u001b[49m\u001b[38;5;241;43m.\u001b[39;49m\u001b[43mload\u001b[49m\u001b[43m(\u001b[49m\u001b[43m)\u001b[49m\n\u001b[1;32m   1965\u001b[0m _serialization_tls\u001b[38;5;241m.\u001b[39mmap_location \u001b[38;5;241m=\u001b[39m \u001b[38;5;28;01mNone\u001b[39;00m\n\u001b[1;32m   1967\u001b[0m torch\u001b[38;5;241m.\u001b[39m_utils\u001b[38;5;241m.\u001b[39m_validate_loaded_sparse_tensors()\n",
      "File \u001b[0;32m~/Documents/myenv/lib/python3.12/site-packages/torch/_weights_only_unpickler.py:512\u001b[0m, in \u001b[0;36mUnpickler.load\u001b[0;34m(self)\u001b[0m\n\u001b[1;32m    504\u001b[0m     \u001b[38;5;28;01mif\u001b[39;00m (\n\u001b[1;32m    505\u001b[0m         \u001b[38;5;28mtype\u001b[39m(pid) \u001b[38;5;129;01mis\u001b[39;00m \u001b[38;5;28mtuple\u001b[39m\n\u001b[1;32m    506\u001b[0m         \u001b[38;5;129;01mand\u001b[39;00m \u001b[38;5;28mlen\u001b[39m(pid) \u001b[38;5;241m>\u001b[39m \u001b[38;5;241m0\u001b[39m\n\u001b[1;32m    507\u001b[0m         \u001b[38;5;129;01mand\u001b[39;00m torch\u001b[38;5;241m.\u001b[39mserialization\u001b[38;5;241m.\u001b[39m_maybe_decode_ascii(pid[\u001b[38;5;241m0\u001b[39m]) \u001b[38;5;241m!=\u001b[39m \u001b[38;5;124m\"\u001b[39m\u001b[38;5;124mstorage\u001b[39m\u001b[38;5;124m\"\u001b[39m\n\u001b[1;32m    508\u001b[0m     ):\n\u001b[1;32m    509\u001b[0m         \u001b[38;5;28;01mraise\u001b[39;00m UnpicklingError(\n\u001b[1;32m    510\u001b[0m             \u001b[38;5;124mf\u001b[39m\u001b[38;5;124m\"\u001b[39m\u001b[38;5;124mOnly persistent_load of storage is allowed, but got \u001b[39m\u001b[38;5;132;01m{\u001b[39;00mpid[\u001b[38;5;241m0\u001b[39m]\u001b[38;5;132;01m}\u001b[39;00m\u001b[38;5;124m\"\u001b[39m\n\u001b[1;32m    511\u001b[0m         )\n\u001b[0;32m--> 512\u001b[0m     \u001b[38;5;28mself\u001b[39m\u001b[38;5;241m.\u001b[39mappend(\u001b[38;5;28;43mself\u001b[39;49m\u001b[38;5;241;43m.\u001b[39;49m\u001b[43mpersistent_load\u001b[49m\u001b[43m(\u001b[49m\u001b[43mpid\u001b[49m\u001b[43m)\u001b[49m)\n\u001b[1;32m    513\u001b[0m \u001b[38;5;28;01melif\u001b[39;00m key[\u001b[38;5;241m0\u001b[39m] \u001b[38;5;129;01min\u001b[39;00m [BINGET[\u001b[38;5;241m0\u001b[39m], LONG_BINGET[\u001b[38;5;241m0\u001b[39m]]:\n\u001b[1;32m    514\u001b[0m     idx \u001b[38;5;241m=\u001b[39m (read(\u001b[38;5;241m1\u001b[39m) \u001b[38;5;28;01mif\u001b[39;00m key[\u001b[38;5;241m0\u001b[39m] \u001b[38;5;241m==\u001b[39m BINGET[\u001b[38;5;241m0\u001b[39m] \u001b[38;5;28;01melse\u001b[39;00m unpack(\u001b[38;5;124m\"\u001b[39m\u001b[38;5;124m<I\u001b[39m\u001b[38;5;124m\"\u001b[39m, read(\u001b[38;5;241m4\u001b[39m)))[\u001b[38;5;241m0\u001b[39m]\n",
      "File \u001b[0;32m~/Documents/myenv/lib/python3.12/site-packages/torch/serialization.py:1928\u001b[0m, in \u001b[0;36m_load.<locals>.persistent_load\u001b[0;34m(saved_id)\u001b[0m\n\u001b[1;32m   1926\u001b[0m \u001b[38;5;28;01melse\u001b[39;00m:\n\u001b[1;32m   1927\u001b[0m     nbytes \u001b[38;5;241m=\u001b[39m numel \u001b[38;5;241m*\u001b[39m torch\u001b[38;5;241m.\u001b[39m_utils\u001b[38;5;241m.\u001b[39m_element_size(dtype)\n\u001b[0;32m-> 1928\u001b[0m     typed_storage \u001b[38;5;241m=\u001b[39m \u001b[43mload_tensor\u001b[49m\u001b[43m(\u001b[49m\n\u001b[1;32m   1929\u001b[0m \u001b[43m        \u001b[49m\u001b[43mdtype\u001b[49m\u001b[43m,\u001b[49m\u001b[43m \u001b[49m\u001b[43mnbytes\u001b[49m\u001b[43m,\u001b[49m\u001b[43m \u001b[49m\u001b[43mkey\u001b[49m\u001b[43m,\u001b[49m\u001b[43m \u001b[49m\u001b[43m_maybe_decode_ascii\u001b[49m\u001b[43m(\u001b[49m\u001b[43mlocation\u001b[49m\u001b[43m)\u001b[49m\n\u001b[1;32m   1930\u001b[0m \u001b[43m    \u001b[49m\u001b[43m)\u001b[49m\n\u001b[1;32m   1932\u001b[0m \u001b[38;5;28;01mreturn\u001b[39;00m typed_storage\n",
      "File \u001b[0;32m~/Documents/myenv/lib/python3.12/site-packages/torch/serialization.py:1888\u001b[0m, in \u001b[0;36m_load.<locals>.load_tensor\u001b[0;34m(dtype, numel, key, location)\u001b[0m\n\u001b[1;32m   1885\u001b[0m     storage \u001b[38;5;241m=\u001b[39m overall_storage[storage_offset : storage_offset \u001b[38;5;241m+\u001b[39m numel]\n\u001b[1;32m   1886\u001b[0m \u001b[38;5;28;01melse\u001b[39;00m:\n\u001b[1;32m   1887\u001b[0m     storage \u001b[38;5;241m=\u001b[39m (\n\u001b[0;32m-> 1888\u001b[0m         \u001b[43mzip_file\u001b[49m\u001b[38;5;241;43m.\u001b[39;49m\u001b[43mget_storage_from_record\u001b[49m\u001b[43m(\u001b[49m\u001b[43mname\u001b[49m\u001b[43m,\u001b[49m\u001b[43m \u001b[49m\u001b[43mnumel\u001b[49m\u001b[43m,\u001b[49m\u001b[43m \u001b[49m\u001b[43mtorch\u001b[49m\u001b[38;5;241;43m.\u001b[39;49m\u001b[43mUntypedStorage\u001b[49m\u001b[43m)\u001b[49m\n\u001b[1;32m   1889\u001b[0m         \u001b[38;5;241m.\u001b[39m_typed_storage()\n\u001b[1;32m   1890\u001b[0m         \u001b[38;5;241m.\u001b[39m_untyped_storage\n\u001b[1;32m   1891\u001b[0m     )\n\u001b[1;32m   1892\u001b[0m \u001b[38;5;66;03m# swap here if byteswapping is needed\u001b[39;00m\n\u001b[1;32m   1893\u001b[0m \u001b[38;5;28;01mif\u001b[39;00m byteorderdata \u001b[38;5;129;01mis\u001b[39;00m \u001b[38;5;129;01mnot\u001b[39;00m \u001b[38;5;28;01mNone\u001b[39;00m:\n",
      "\u001b[0;31mRuntimeError\u001b[0m: PytorchStreamReader failed locating file data/4: file not found"
     ]
    }
   ],
   "source": [
    "import os, torch, pprint\n",
    "pth = \"/home/ml/Documents/voice/output_multigan/FirstTime64/checkpoints/checkpoint_interrupt_epoch129.pth\"\n",
    "\n",
    "print(\"size:\", os.path.getsize(pth), \"bytes\")   # should be MBs, not a few KB\n",
    "ckpt = torch.load(pth, map_location=\"cpu\")      # crash here? → file is corrupt\n",
    "pprint.pprint(ckpt.keys())                      # expect: epoch, netG, netD, optG, optD\n",
    "print(\"decoders saved:\", len(ckpt[\"optG\"]))\n"
   ]
  }
 ],
 "metadata": {
  "kernelspec": {
   "display_name": "myenv",
   "language": "python",
   "name": "python3"
  },
  "language_info": {
   "codemirror_mode": {
    "name": "ipython",
    "version": 3
   },
   "file_extension": ".py",
   "mimetype": "text/x-python",
   "name": "python",
   "nbconvert_exporter": "python",
   "pygments_lexer": "ipython3",
   "version": "3.12.3"
  }
 },
 "nbformat": 4,
 "nbformat_minor": 5
}
