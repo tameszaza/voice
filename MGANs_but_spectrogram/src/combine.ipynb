{
 "cells": [
  {
   "cell_type": "code",
   "execution_count": null,
   "metadata": {},
   "outputs": [],
   "source": [
    "import os\n",
    "import torch\n",
    "from torch.utils.data import TensorDataset\n",
    "import librosa\n",
    "import numpy as np\n",
    "import glob\n",
    "\n",
    "def librispeech_to_mel(root_dir, target_sr=16000, n_mels=64, n_fft=1024, hop_length=512, target_length=128):\n",
    "    \"\"\"\n",
    "    Convert raw LibriSpeech audio files to Mel spectrograms and return a TensorDataset.\n",
    "    \"\"\"\n",
    "    flac_files = glob.glob(os.path.join(root_dir, '**', '*.flac'), recursive=True)\n",
    "    mel_spectrograms = []  # Initialize list to store Mel spectrograms\n",
    "\n",
    "    if len(flac_files) == 0:\n",
    "        raise ValueError(f\"No FLAC files found in directory: {root_dir}\")\n",
    "\n",
    "    for file in flac_files:\n",
    "        try:\n",
    "            # Load the audio file\n",
    "            audio, sr = librosa.load(file, sr=target_sr)\n",
    "            # Normalize audio to range [-1, 1]\n",
    "            audio = audio / np.max(np.abs(audio))\n",
    "            \n",
    "            # Convert to Mel spectrogram\n",
    "            mel_spec = librosa.feature.melspectrogram(y=audio, sr=sr, n_fft=n_fft, hop_length=hop_length, n_mels=n_mels)\n",
    "            \n",
    "            # Convert to dB scale\n",
    "            mel_spec_db = librosa.power_to_db(mel_spec, ref=np.max)\n",
    "            \n",
    "            # Ensure the Mel spectrogram has a fixed length\n",
    "            if mel_spec_db.shape[1] < target_length:\n",
    "                # Pad if shorter\n",
    "                pad_width = target_length - mel_spec_db.shape[1]\n",
    "                mel_spec_db = np.pad(mel_spec_db, ((0, 0), (0, pad_width)), mode='constant')\n",
    "            else:\n",
    "                # Trim if longer\n",
    "                mel_spec_db = mel_spec_db[:, :target_length]\n",
    "\n",
    "            # Add channel dimension and append to list\n",
    "            mel_tensor = torch.tensor(mel_spec_db, dtype=torch.float32).unsqueeze(0)  # Add channel dim\n",
    "            mel_spectrograms.append(mel_tensor)\n",
    "        \n",
    "        except Exception as e:\n",
    "            print(f\"Error processing file {file}: {e}\")\n",
    "\n",
    "    if len(mel_spectrograms) == 0:\n",
    "        raise ValueError(\"No valid audio files were processed into Mel spectrograms.\")\n",
    "\n",
    "    # Stack into a single tensor\n",
    "    mel_spectrograms = torch.stack(mel_spectrograms)  # Shape: [num_samples, 1, n_mels, target_length]\n",
    "    return TensorDataset(mel_spectrograms)\n"
   ]
  }
 ],
 "metadata": {
  "kernelspec": {
   "display_name": ".venv",
   "language": "python",
   "name": "python3"
  },
  "language_info": {
   "name": "python",
   "version": "3.12.3"
  }
 },
 "nbformat": 4,
 "nbformat_minor": 2
}
