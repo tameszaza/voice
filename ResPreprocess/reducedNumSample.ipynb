{
 "cells": [
  {
   "cell_type": "code",
   "execution_count": 1,
   "id": "4763686f",
   "metadata": {},
   "outputs": [
    {
     "name": "stdout",
     "output_type": "stream",
     "text": [
      "→ Saved real.npy with 18320 samples\n",
      "  • ljspeech_full_band_melgan.npy → selected 2618/18337\n",
      "  • ljspeech_hifiGAN.npy → selected 2617/18297\n",
      "  • ljspeech_melgan.npy → selected 2617/18337\n",
      "  • ljspeech_melgan_large.npy → selected 2617/18337\n",
      "  • ljspeech_multi_band_melgan.npy → selected 2617/18337\n",
      "  • ljspeech_parallel_wavegan.npy → selected 2617/18337\n",
      "  • ljspeech_waveglow.npy → selected 2617/18337\n",
      "→ Saved fake.npy with 18320 samples\n"
     ]
    }
   ],
   "source": [
    "import os\n",
    "import glob\n",
    "import numpy as np\n",
    "\n",
    "# --- 1) Paths ----------------------------------------------------------------\n",
    "test_dir   = '/home/ml/Documents/voice/ResData/wavefake128_2048split/train'\n",
    "fake_dir   = os.path.join(test_dir, 'fake')\n",
    "real_file  = os.path.join(test_dir, 'real.npy')\n",
    "out_dir    = os.path.join(test_dir, 'aggregated')\n",
    "\n",
    "os.makedirs(out_dir, exist_ok=True)\n",
    "\n",
    "# --- 2) Load & save real ----------------------------------------------------\n",
    "real = np.load(real_file)\n",
    "N_real = real.shape[0]\n",
    "np.save(os.path.join(out_dir, 'real.npy'), real)\n",
    "print(f\"→ Saved real.npy with {N_real} samples\")\n",
    "\n",
    "# --- 3) Gather fake file list -----------------------------------------------\n",
    "fake_paths = sorted(glob.glob(os.path.join(fake_dir, '*.npy')))\n",
    "K = len(fake_paths)\n",
    "if K == 0:\n",
    "    raise RuntimeError(\"No .npy files found in test/fake/\")\n",
    "\n",
    "# Compute per-file quotas so sum(quota_i) == N_real and |quota_i - quota_j| ≤ 1\n",
    "base      = N_real // K\n",
    "remainder = N_real % K   # first `remainder` files get one extra sample\n",
    "\n",
    "np.random.seed(42)       # for reproducibility—optional\n",
    "fake_parts = []\n",
    "for i, path in enumerate(fake_paths):\n",
    "    data = np.load(path)\n",
    "    Ni   = data.shape[0]\n",
    "    qi   = base + (1 if i < remainder else 0)\n",
    "    if qi > Ni:\n",
    "        raise ValueError(\n",
    "            f\"File {os.path.basename(path)} has only {Ni} samples, \"\n",
    "            f\"but {qi} were requested\"\n",
    "        )\n",
    "    # randomly pick qi samples\n",
    "    idx = np.random.permutation(Ni)[:qi]\n",
    "    fake_parts.append(data[idx])\n",
    "    print(f\"  • {os.path.basename(path)} → selected {qi}/{Ni}\")\n",
    "\n",
    "# --- 4) Concatenate & save fake ---------------------------------------------\n",
    "fake_agg = np.concatenate(fake_parts, axis=0)\n",
    "assert fake_agg.shape[0] == N_real, \\\n",
    "       f\"Total fake ({fake_agg.shape[0]}) ≠ real ({N_real})\"\n",
    "\n",
    "np.save(os.path.join(out_dir, 'fake.npy'), fake_agg)\n",
    "print(f\"→ Saved fake.npy with {fake_agg.shape[0]} samples\")\n"
   ]
  }
 ],
 "metadata": {
  "kernelspec": {
   "display_name": "myenv",
   "language": "python",
   "name": "python3"
  },
  "language_info": {
   "codemirror_mode": {
    "name": "ipython",
    "version": 3
   },
   "file_extension": ".py",
   "mimetype": "text/x-python",
   "name": "python",
   "nbconvert_exporter": "python",
   "pygments_lexer": "ipython3",
   "version": "3.12.3"
  }
 },
 "nbformat": 4,
 "nbformat_minor": 5
}
