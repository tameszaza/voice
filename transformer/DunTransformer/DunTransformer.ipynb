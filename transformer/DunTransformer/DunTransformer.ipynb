{
 "cells": [
  {
   "cell_type": "code",
   "execution_count": null,
   "metadata": {
    "vscode": {
     "languageId": "plaintext"
    }
   },
   "outputs": [],
   "source": [
    "# Append the repository path so we can import its modules\n",
    "import sys\n",
    "sys.path.append('./TransformerTTS')  # Adjust the path as needed\n",
    "\n",
    "# Import necessary modules from the repository\n",
    "from hparams import hparams as hp  # Hyperparameter settings\n",
    "from model import TransformerTTS   # The main TTS model\n",
    "from dataset import TTSDataset     # Example dataset loader (if available)\n",
    "# Alternatively, import your custom data loader if your repo uses a different name\n",
    "\n",
    "# Additional libraries for training and logging\n",
    "import torch\n",
    "import torch.optim as optim\n"
   ]
  },
  {
   "cell_type": "markdown",
   "metadata": {},
   "source": []
  }
 ],
 "metadata": {
  "language_info": {
   "name": "python"
  }
 },
 "nbformat": 4,
 "nbformat_minor": 2
}
